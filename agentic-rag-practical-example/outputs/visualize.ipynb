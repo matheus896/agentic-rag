```python
import pandas as pd
import matplotlib.pyplot as plt

def generate_graph():
    # Create a sample dataset
    data = {
        'Year': [2020, 2021, 2022, 2023],
        'Tax Paid': [100000, 120000, 150000, 180000]
    }
    # Create a DataFrame
    df = pd.DataFrame(data)
    # Generate a line graph to visualize the trend of tax paid over the years
    plt.figure(figsize=(10,6))
    plt.plot(df['Year'], df['Tax Paid'], marker='o')
    plt.title('Tax Paid Trend')
    plt.xlabel('Year')
    plt.ylabel('Tax Paid')
    plt.grid(True)
    plt.savefig('tax_paid_trend.png')
    print('The graph has been saved as tax_paid_trend.png')

generate_graph()
```